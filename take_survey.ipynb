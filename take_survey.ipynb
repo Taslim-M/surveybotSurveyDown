{
 "cells": [
  {
   "cell_type": "code",
   "execution_count": 1,
   "metadata": {},
   "outputs": [],
   "source": [
    "from convert_to_json import convert_yaml_to_json_objects\n",
    "from llm_question_handler import ask_question_with_llm\n",
    "from dotenv import load_dotenv\n",
    "import os\n",
    "\n",
    "# Convert YAML to question objects\n",
    "questions = convert_yaml_to_json_objects('sample_q.yml')\n"
   ]
  },
  {
   "cell_type": "code",
   "execution_count": null,
   "metadata": {},
   "outputs": [],
   "source": [
    "load_dotenv()\n",
    "api_key = os.getenv(\"OPENAI_API_KEY\")\n",
    "\n",
    "def get_survey_answers(questions):\n",
    "    answers = []\n",
    "    for question in questions:\n",
    "        answer = ask_question_with_llm(question, api_key)\n",
    "        answers.append({\n",
    "            'key': question['key'],\n",
    "            'answer': answer\n",
    "        })\n",
    "    return answers\n",
    "\n",
    "answers = get_survey_answers(questions)\n"
   ]
  },
  {
   "cell_type": "code",
   "execution_count": 6,
   "metadata": {},
   "outputs": [
    {
     "name": "stdout",
     "output_type": "stream",
     "text": [
      "[\n",
      "  {\n",
      "    \"key\": \"inital_wars\",\n",
      "    \"answer\": \"no\"\n",
      "  },\n",
      "  {\n",
      "    \"key\": \"overall_opinion\",\n",
      "    \"answer\": \"I would rate the Star Wars franchise an 8 out of 10. The franchise has had a significant cultural impact and has created a rich and expansive universe that captivates fans across generations. The original trilogy set a high standard for storytelling, character development, and world-building. While some recent films and shows have received mixed reviews, the franchise continues to innovate and expand through new storytelling formats, such as series on streaming platforms. However, the inconsistency in quality and the divisive nature of some recent entries prevent me from giving it a perfect score. Overall, Star Wars remains a beloved and influential part of popular culture.\"\n",
      "  },\n",
      "  {\n",
      "    \"key\": \"rankings_og_tril\",\n",
      "    \"answer\": \"good\"\n",
      "  },\n",
      "  {\n",
      "    \"key\": \"rankings_preq\",\n",
      "    \"answer\": \"neutral\"\n",
      "  },\n",
      "  {\n",
      "    \"key\": \"rankings_seq\",\n",
      "    \"answer\": \"neutral\"\n",
      "  },\n",
      "  {\n",
      "    \"key\": \"rankings_mando\",\n",
      "    \"answer\": \"good\"\n",
      "  },\n",
      "  {\n",
      "    \"key\": \"rankings_andor\",\n",
      "    \"answer\": \"good\"\n",
      "  },\n",
      "  {\n",
      "    \"key\": \"rankings_og_tril\",\n",
      "    \"answer\": \"good\"\n",
      "  },\n",
      "  {\n",
      "    \"key\": \"rankings_preq\",\n",
      "    \"answer\": \"neutral\"\n",
      "  },\n",
      "  {\n",
      "    \"key\": \"rankings_seq\",\n",
      "    \"answer\": \"neutral\"\n",
      "  },\n",
      "  {\n",
      "    \"key\": \"rankings_mando\",\n",
      "    \"answer\": \"good\"\n",
      "  },\n",
      "  {\n",
      "    \"key\": \"rankings_andor\",\n",
      "    \"answer\": \"good\"\n",
      "  },\n",
      "  {\n",
      "    \"key\": \"future\",\n",
      "    \"answer\": \"yes\"\n",
      "  },\n",
      "  {\n",
      "    \"key\": \"continuance\",\n",
      "    \"answer\": \"I believe Star Wars is not heading in the right direction for several reasons. First, the recent films and series seem to prioritize nostalgic elements over original storytelling, often relying too heavily on established characters and themes instead of exploring new narratives or depth. This can make the franchise feel stagnant rather than innovative.\\n\\nSecond, the inconsistent tone and quality across various projects, such as the differing styles of the sequel trilogy and standalone films, have led to a fragmented experience for fans. This inconsistency can dilute the overall impact of the franchise.\\n\\nLastly, I feel that there is a missed opportunity to further develop the expansive universe that could introduce diverse characters and stories. Instead, it appears that the focus has shifted towards safe, marketable content, which risks alienating long-time fans who appreciate the depth and complexity of the original films. Overall, I hope to see a return to bold storytelling that honors the legacy of Star Wars while pushing creative boundaries.\"\n",
      "  }\n",
      "]\n"
     ]
    }
   ],
   "source": [
    "import json\n",
    "print(json.dumps(answers, indent=2))"
   ]
  }
 ],
 "metadata": {
  "kernelspec": {
   "display_name": "Python 3",
   "language": "python",
   "name": "python3"
  },
  "language_info": {
   "codemirror_mode": {
    "name": "ipython",
    "version": 3
   },
   "file_extension": ".py",
   "mimetype": "text/x-python",
   "name": "python",
   "nbconvert_exporter": "python",
   "pygments_lexer": "ipython3",
   "version": "3.11.9"
  }
 },
 "nbformat": 4,
 "nbformat_minor": 2
}
